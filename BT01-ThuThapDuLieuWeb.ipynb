{
 "cells": [
  {
   "cell_type": "markdown",
   "metadata": {},
   "source": [
    "# BT01: Thu thập dữ liệu từ web\n",
    "\n",
    "Họ tên: ...\n",
    "\n",
    "MSSV: ...\n",
    "\n",
    "---"
   ]
  },
  {
   "cell_type": "markdown",
   "metadata": {},
   "source": [
    "## <font color=blue>Tổng thể</font>\n",
    "\n",
    "**Làm bài**\n",
    "\n",
    "Bạn sẽ làm trực tiếp trên file notebook này. Đầu tiên, bạn điền họ tên và MSSV vào phần đầu file ở bên trên. Trong file, mình đã để từ `TODO` để cho biết những chỗ mà bạn cần phải làm. Trong khi làm bài, thường xuyên `Ctrl + S` để lưu lại bài làm của bạn, tránh mất mát thông tin.\n",
    "\n",
    "*Nên nhớ mục tiêu chính ở đây là <font color=green>học, học một cách chân thật</font>. Bạn có thể thảo luận ý tưởng với bạn khác, nhưng <font color=green>code và bài làm phải là của bạn, dựa trên sự hiểu thật sự của bạn</font>. <font color=red>Nếu vi phạm thì sẽ bị 0 điểm cho toàn bộ môn học.</font>*\n",
    "\n",
    "**Nộp bài**\n",
    "\n",
    "Khi chấm bài, đầu tiên mình sẽ chọn `Kernel` - `Restart & Run All` để restart và chạy tất cả các cell trong notebook của bạn; do đó, trước khi nộp bài, bạn nên chạy thử `Kernel` - `Restart & Run All` để đảm bảo mọi chuyện diễn ra đúng như mong đợi.\n",
    "\n",
    "Sau đó, trong thư mục `MSSV` (vd, nếu bạn có MSSV là 1234567 thì bạn đặt tên thư mục là `1234567`) bạn đặt file `BT01-ThuThapDuLieuWeb.ipynb`, rồi nén thư mục `MSSV` này lại và nộp ở link trên moodle.\n",
    "\n",
    "**Nội dung bài tập**\n",
    "\n",
    "Trong bài này, bạn sẽ hoàn thành ví dụ tình hình tuyển dụng công việc về Khoa Học Dữ Liệu mà mình đang làm dở ở trên lớp lý thuyết."
   ]
  },
  {
   "attachments": {},
   "cell_type": "markdown",
   "metadata": {},
   "source": [
    "## <font color=blue>Đặt câu hỏi</font>\n",
    "**Tình hình tuyển dụng các công việc về khoa học dữ liệu ở Việt Nam hiện nay như thế nào?**\n",
    "\n",
    "Ban đầu, câu hỏi đặt ra thường rộng và mơ hồ. Lúc sau, sẽ quay lại bước này để điều chỉnh câu hỏi cho rõ ràng và cụ thể hơn."
   ]
  },
  {
   "cell_type": "markdown",
   "metadata": {},
   "source": [
    "## <font color=blue>Thu thập dữ liệu</font>"
   ]
  },
  {
   "cell_type": "code",
   "execution_count": null,
   "metadata": {},
   "outputs": [],
   "source": [
    "import requests\n",
    "from bs4 import BeautifulSoup"
   ]
  },
  {
   "cell_type": "code",
   "execution_count": null,
   "metadata": {},
   "outputs": [],
   "source": [
    "# Read html text\n",
    "url = 'https://careerbuilder.vn/viec-lam/data-science-k-vi.html'\n",
    "html_text = requests.get(url).text\n",
    "# html_text"
   ]
  },
  {
   "cell_type": "code",
   "execution_count": null,
   "metadata": {},
   "outputs": [],
   "source": [
    "# Parse html text\n",
    "tree = BeautifulSoup(html_text, 'html.parser')"
   ]
  },
  {
   "cell_type": "code",
   "execution_count": null,
   "metadata": {},
   "outputs": [],
   "source": [
    "# Find all job containers\n",
    "job_containers = tree.find_all('dd')\n",
    "len(job_containers)"
   ]
  },
  {
   "attachments": {},
   "cell_type": "markdown",
   "metadata": {},
   "source": [
    "Kế đến, với mỗi phần tử (mỗi tuyển dụng) trong `job_containers`, ta sẽ rút trích ra các thông tin:\n",
    "- Công ty tuyển dụng (đã làm trên lớp lý thuyết).\n",
    "- Địa điểm (đã làm trên lớp lý thuyết).\n",
    "- Ngày đăng thông báo (đã làm trên lớp lý thuyết).\n",
    "- Lương.\n",
    "- Tựa đề.\n",
    "- Link đến nội dung chi tiết.\n",
    "- Nội dung chi tiết (chỗ này có điều chỉnh so với trên lớp lý thuyết, vì mình nghĩ lại và thấy rằng ban đầu khi chưa rõ về câu hỏi đặt ra thì có lẽ nên thu thập thông tin đầy đủ và nguyên thủy một chút). Ở phía dưới, mình đã cung cấp sẵn cho bạn hàm `extract_text` - hàm rút trích nội dung văn bản từ địa chỉ của một trang web.\n",
    "\n",
    "Sau đó, lưu các thông tin này xuống file `csv` (mỗi tuyển dụng ứng với một dòng). Để tránh nhập nhằng giữa dấu `,` trong nội dung các thông tin và dấu `,` phân tách các giá trị trong file `csv`, ta sẽ dùng dấu `\\t` (tab) để phân tách các giá trị trong file `csv` (file `csv` cho phép làm như vậy, chứ không bắt buộc là phải dùng dấu `,`)."
   ]
  },
  {
   "cell_type": "code",
   "execution_count": null,
   "metadata": {},
   "outputs": [],
   "source": [
    "def extract_text(url):\n",
    "    '''\n",
    "    Extracts text from a web.\n",
    "    \n",
    "    Parameters\n",
    "    ----------\n",
    "    url : string\n",
    "        The url of a web.\n",
    "    \n",
    "    Returns\n",
    "    -------\n",
    "    text : string\n",
    "        The extracted text.\n",
    "    '''\n",
    "    # Read html text\n",
    "    try:\n",
    "        html_text = requests.get(url).text\n",
    "    except:\n",
    "        print('Cannot read ' + url)\n",
    "        return ''\n",
    "    \n",
    "    # Parse html text\n",
    "    tree = BeautifulSoup(html_text, 'html.parser')\n",
    "    \n",
    "    # Remove invisible tags from tree\n",
    "    invisible_tags = tree.find_all(['style', 'script'])\n",
    "    for invisible_tag in invisible_tags:\n",
    "        invisible_tag.extract()\n",
    "    \n",
    "    # Get text from tree, replace new line character by ' ' to prevent problem when writing to csv file \n",
    "    text = ' '.join(tree.stripped_strings).replace('\\r\\n', ' ').replace('\\n', ' ')\n",
    "    \n",
    "    return text\n",
    "# text = extract_word_set('https://careerbuilder.vn/vi/tim-viec-lam/tan-binh-ai-engineer-data-science-minimum-1700usd-l19.35B022BD.html')\n",
    "# print(text)"
   ]
  },
  {
   "cell_type": "code",
   "execution_count": null,
   "metadata": {},
   "outputs": [],
   "source": [
    "f = open('ds_jobs.csv', 'w', encoding='utf-16')\n",
    "f.write('company\\tlocation\\tdate\\tsalary\\ttitle\\turl\\tfull_text\\n') # Write header to csv file\n",
    "\n",
    "# With each job container ...\n",
    "for job_container in job_containers:\n",
    "    # Extract data\n",
    "    company = job_container.find('p', {'class': 'namecom'}).find('a').string\n",
    "    location = job_container.find('p', {'class': 'location'}).get_text()\n",
    "    date = job_container.find('div', {'class': 'dateposted'}).string.replace('Ngày cập nhật: ', '')\n",
    "    salary = '?'# TODO (You should also remove 'Lương: ' from the extracted text)\n",
    "    title = '?'# TODO\n",
    "    url = '?'# TODO\n",
    "    full_text = '?'# TODO\n",
    "    \n",
    "    # Write to csv file\n",
    "    f.write(company + '\\t')\n",
    "    f.write(location + '\\t')\n",
    "    f.write(date + '\\t')\n",
    "    f.write(salary + '\\t')\n",
    "    f.write(title + '\\t')\n",
    "    f.write(url + '\\t')\n",
    "    f.write(full_text + '\\n')    \n",
    "#     print(company)\n",
    "#     print(location)\n",
    "#     print(date)\n",
    "#     print(salary)\n",
    "#     print(title)\n",
    "#     print(url)\n",
    "#     print()\n",
    "\n",
    "f.close()"
   ]
  },
  {
   "attachments": {},
   "cell_type": "markdown",
   "metadata": {},
   "source": [
    "## <font color=blue>Xem dữ liệu và đặt lại câu hỏi</font>\n",
    "Bây giờ, hãy mở file `ds_jobs.csv` để xem dữ liệu: double click vào file `ds_jobs.csv` và file này sẽ được mở bằng Excel (ở máy mình, mình xem file này một cách bình thường, không có vấn đề gì; nếu bạn gặp vấn đề gì thì có thể post lên moodle). Với dữ liệu như này ở trước mặt, ta hãy nghĩ về câu hỏi ban đầu và xem nên điều chỉnh lại như thế nào cho rõ ràng và cụ thể hơn? Hay là có các câu hỏi nào khác mà có thể được trả lời thông qua dữ liệu này không? Câu hỏi có hay không, nếu trả lời được câu hỏi thì sẽ có ích lợi gì không?\n",
    "\n",
    "Một câu hỏi có thể đặt ra là: **các tuyển dụng về Khoa Học Dữ Liệu ở Việt Nam hiện nay thường yêu cầu biết ngôn ngữ lập trình nào?**  Ở đây, để đơn giản, ta sẽ giới hạn tập ngôn ngữ được khảo sát là: python, r, matlab, java, c#, c++.\n",
    "- Nếu trả lời được câu hỏi này thì sẽ giúp ta định hướng nên học các ngôn ngữ lập trình nào nếu muốn theo Khoa Học Dữ Liệu.\n",
    "- Câu hỏi này có thể được trả lời với tập dữ liệu trên bằng cách: với mỗi tuyển dụng, xem trong `full_text` yêu cầu các ngôn ngữ lập trình nào và cập nhật biến đếm cho các ngôn ngữ lập trình đó;  cuối cùng, khi duyệt hết tất cả các tuyển dụng, ta sẽ có được thống kê ngôn ngữ nào được yêu cầu nhiều nhất, ngôn ngữ nào được yêu cầu nhiều nhì, ... (bạn cũng nên thắc mắc: với câu trả lời có được từ tập dữ liệu được thu thập như trên thì có đáng tin cậy không, làm sao để cải thiện độ tin cậy?)"
   ]
  },
  {
   "cell_type": "markdown",
   "metadata": {},
   "source": [
    "## <font color=blue>Phân tích dữ liệu</font>\n",
    "Bây giờ, ta sẽ tiến hành phân tích dữ liệu để trả lời cho câu hỏi ở trên. Một cách đơn giản là: với mỗi tuyển dụng, ta sẽ rút trích ra tập các từ từ `full_text`; rồi với mỗi ngôn ngữ lập trình, kiểm xem có trong tập từ này không, nếu có thì cập nhật biến đếm tương ứng."
   ]
  },
  {
   "cell_type": "code",
   "execution_count": null,
   "metadata": {},
   "outputs": [],
   "source": [
    "import re # Regular expression"
   ]
  },
  {
   "cell_type": "code",
   "execution_count": null,
   "metadata": {},
   "outputs": [],
   "source": [
    "f = open('ds_jobs.csv', 'r', encoding='utf-16')\n",
    "lines = f.readlines()\n",
    "f.close()\n",
    "\n",
    "language_counts = {'c++': 0, 'c#': 0, 'java': 0, 'matlab': 0, 'python': 0, 'r': 0} # Init\n",
    "for line in lines[1:]: # Skip the first line (header)\n",
    "    full_text = line.split('\\t')[-1].lower()\n",
    "    word_set = set(re.findall('[\\\\w#+]+', full_text, re.UNICODE))\n",
    "    # TODO: with each language, check if it's in word_set \n",
    "    #       if true then update the corresponding count\n",
    "    \n",
    "language_counts"
   ]
  },
  {
   "cell_type": "markdown",
   "metadata": {},
   "source": [
    "Kết quả chạy của mình: `{'c#': 0, 'c++': 5, 'java': 4, 'matlab': 0, 'python': 16, 'r': 10}`. Tại thời điểm bạn chạy, có thể sẽ có khác đôi chút."
   ]
  }
 ],
 "metadata": {
  "kernelspec": {
   "display_name": "Python 3",
   "language": "python",
   "name": "python3"
  },
  "language_info": {
   "codemirror_mode": {
    "name": "ipython",
    "version": 3
   },
   "file_extension": ".py",
   "mimetype": "text/x-python",
   "name": "python",
   "nbconvert_exporter": "python",
   "pygments_lexer": "ipython3",
   "version": "3.6.4"
  },
  "toc": {
   "nav_menu": {},
   "number_sections": false,
   "sideBar": true,
   "skip_h1_title": false,
   "title_cell": "Table of Contents",
   "title_sidebar": "Contents",
   "toc_cell": false,
   "toc_position": {
    "height": "calc(100% - 180px)",
    "left": "10px",
    "top": "150px",
    "width": "165px"
   },
   "toc_section_display": true,
   "toc_window_display": true
  }
 },
 "nbformat": 4,
 "nbformat_minor": 2
}
